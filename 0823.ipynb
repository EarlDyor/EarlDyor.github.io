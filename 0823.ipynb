{
  "nbformat": 4,
  "nbformat_minor": 0,
  "metadata": {
    "colab": {
      "provenance": []
    },
    "kernelspec": {
      "name": "python3",
      "display_name": "Python 3"
    },
    "language_info": {
      "name": "python"
    }
  },
  "cells": [
    {
      "cell_type": "code",
      "execution_count": 7,
      "metadata": {
        "colab": {
          "base_uri": "https://localhost:8080/"
        },
        "id": "mlAgNSp1xRM7",
        "outputId": "a7679e15-2e6f-46c1-9530-f1eb4fc5a9ca"
      },
      "outputs": [
        {
          "output_type": "stream",
          "name": "stdout",
          "text": [
            "請輸入購買金額：3000\n",
            "請輸入賣出金額：6000\n",
            "匯率： 40 購買金額： 3000 購買金額換算成新台幣： 120000.0 賣出金額： 6000 賣出金額換算成新台幣： 240000.0\n",
            "匯率： 35 購買金額： 3000 購買金額換算成新台幣： 105000.0 賣出金額： 6000 賣出金額換算成新台幣： 210000.0\n",
            "匯率： 33 購買金額： 3000 購買金額換算成新台幣： 99000.0 賣出金額： 6000 賣出金額換算成新台幣： 198000.0\n",
            "匯率： 30 購買金額： 3000 購買金額換算成新台幣： 90000.0 賣出金額： 6000 賣出金額換算成新台幣： 180000.0\n",
            "匯率： 27 購買金額： 3000 購買金額換算成新台幣： 81000.0 賣出金額： 6000 賣出金額換算成新台幣： 162000.0\n",
            "匯率： 25 購買金額： 3000 購買金額換算成新台幣： 75000.0 賣出金額： 6000 賣出金額換算成新台幣： 150000.0\n"
          ]
        }
      ],
      "source": [
        "# 歡迎使用Earl寫的小程式\n",
        "\n",
        "# 匯率\n",
        "exchange_rates = [40,35,33, 30, 27,25]\n",
        "\n",
        "# 購買金額\n",
        "purchase_amount = input(\"請輸入購買金額：\")\n",
        "\n",
        "# 賣出金額\n",
        "sell_amount = input(\"請輸入賣出金額：\")\n",
        "\n",
        "# 換算匯率\n",
        "for exchange_rate in exchange_rates:\n",
        "    purchase_amount_in_twd = float(purchase_amount) * exchange_rate\n",
        "    sell_amount_in_twd = float(sell_amount) * exchange_rate\n",
        "    print(\"匯率：\", exchange_rate, \"購買金額：\", purchase_amount, \"購買金額換算成新台幣：\", purchase_amount_in_twd, \"賣出金額：\", sell_amount, \"賣出金額換算成新台幣：\", sell_amount_in_twd)\n"
      ]
    }
  ]
}