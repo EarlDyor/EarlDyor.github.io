# 歡迎使用Earl寫的小程式

# 匯率
exchange_rates = [40,35,33, 30, 27,25]

# 購買金額
purchase_amount = input("請輸入購買金額：")

# 賣出金額
sell_amount = input("請輸入賣出金額：")

# 換算匯率
for exchange_rate in exchange_rates:
    purchase_amount_in_twd = float(purchase_amount) * exchange_rate
    sell_amount_in_twd = float(sell_amount) * exchange_rate
    print("匯率：", exchange_rate, "購買金額：", purchase_amount, "購買金額換算成新台幣：", purchase_amount_in_twd, "賣出金額：", sell_amount, "賣出金額換算成新台幣：", sell_amount_in_twd)
