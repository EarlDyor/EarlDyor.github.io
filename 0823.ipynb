{
  "nbformat": 4,
  "nbformat_minor": 0,
  "metadata": {
    "colab": {
      "provenance": [],
      "authorship_tag": "ABX9TyO5WP5MBmP+E8gj3TCP5vU2",
      "include_colab_link": true
    },
    "kernelspec": {
      "name": "python3",
      "display_name": "Python 3"
    },
    "language_info": {
      "name": "python"
    }
  },
  "cells": [
    {
      "cell_type": "markdown",
      "metadata": {
        "id": "view-in-github",
        "colab_type": "text"
      },
      "source": [
        "<a href=\"https://colab.research.google.com/github/EarlDyor/EarlDyor.github.io/blob/main/0823.ipynb\" target=\"_parent\"><img src=\"https://colab.research.google.com/assets/colab-badge.svg\" alt=\"Open In Colab\"/></a>"
      ]
    },
    {
      "cell_type": "code",
      "execution_count": 5,
      "metadata": {
        "colab": {
          "base_uri": "https://localhost:8080/"
        },
        "id": "mlAgNSp1xRM7",
        "outputId": "68a97b78-f5b1-4c9b-cd83-11f4bbace272"
      },
      "outputs": [
        {
          "output_type": "stream",
          "name": "stdout",
          "text": [
            "請輸入購買金額：20000\n",
            "請輸入賣出金額：29292\n",
            "匯率： 40 購買金額： 20000 購買金額換算成新台幣： 800000.0 賣出金額： 29292 賣出金額換算成新台幣： 1171680.0\n",
            "匯率： 35 購買金額： 20000 購買金額換算成新台幣： 700000.0 賣出金額： 29292 賣出金額換算成新台幣： 1025220.0\n",
            "匯率： 33 購買金額： 20000 購買金額換算成新台幣： 660000.0 賣出金額： 29292 賣出金額換算成新台幣： 966636.0\n",
            "匯率： 30 購買金額： 20000 購買金額換算成新台幣： 600000.0 賣出金額： 29292 賣出金額換算成新台幣： 878760.0\n",
            "匯率： 27 購買金額： 20000 購買金額換算成新台幣： 540000.0 賣出金額： 29292 賣出金額換算成新台幣： 790884.0\n",
            "匯率： 25 購買金額： 20000 購買金額換算成新台幣： 500000.0 賣出金額： 29292 賣出金額換算成新台幣： 732300.0\n"
          ]
        }
      ],
      "source": [
        "# 歡迎使用Earl寫的小程式\n",
        "\n",
        "# 匯率\n",
        "exchange_rates = [40,35,33, 30, 27,25]\n",
        "\n",
        "# 購買金額\n",
        "purchase_amount = input(\"請輸入購買金額：\")\n",
        "\n",
        "# 賣出金額\n",
        "sell_amount = input(\"請輸入賣出金額：\")\n",
        "\n",
        "# 換算匯率\n",
        "for exchange_rate in exchange_rates:\n",
        "    purchase_amount_in_twd = float(purchase_amount) * exchange_rate\n",
        "    sell_amount_in_twd = float(sell_amount) * exchange_rate\n",
        "    print(\"匯率：\", exchange_rate, \"購買金額：\", purchase_amount, \"購買金額換算成新台幣：\", purchase_amount_in_twd, \"賣出金額：\", sell_amount, \"賣出金額換算成新台幣：\", sell_amount_in_twd)\n"
      ]
    }
  ]
}